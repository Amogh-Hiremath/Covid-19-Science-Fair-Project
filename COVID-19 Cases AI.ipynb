{
 "cells": [
  {
   "cell_type": "markdown",
   "id": "78d9baf5",
   "metadata": {},
   "source": [
    "# Train Random Forest Classifier on COVID-19 dataset from CDC"
   ]
  },
  {
   "cell_type": "code",
   "execution_count": 1,
   "id": "27a20517",
   "metadata": {},
   "outputs": [],
   "source": [
    "import pandas as pd\n",
    "import matplotlib.pyplot as plt"
   ]
  },
  {
   "cell_type": "code",
   "execution_count": 2,
   "id": "df4f0b76",
   "metadata": {},
   "outputs": [],
   "source": [
    "%matplotlib inline"
   ]
  },
  {
   "cell_type": "code",
   "execution_count": 3,
   "id": "8263adb2",
   "metadata": {},
   "outputs": [],
   "source": [
    "pd.set_option('display.max_columns', None)"
   ]
  },
  {
   "cell_type": "markdown",
   "id": "d0bb2971",
   "metadata": {},
   "source": [
    "## Download the [csv file](https://catalog.data.gov/dataset/covid-19-case-surveillance-public-use-data)."
   ]
  },
  {
   "cell_type": "markdown",
   "id": "ac571883",
   "metadata": {},
   "source": [
    "## Prepare the dataset for AI. Replace Yes, No with 1 and 0 respectively. "
   ]
  },
  {
   "cell_type": "markdown",
   "id": "5285a882",
   "metadata": {},
   "source": [
    "## Replace age groups with integer values.\n",
    "1. 0-9 years\n",
    "2. 10-19 years\n",
    "3. 20-29 years\n",
    "4. 30-39 years\n",
    "5. 40-49 years\n",
    "6. 50-59 years\n",
    "7. 60-69 years\n",
    "8. 70-79 years\n",
    "9. 85+ years"
   ]
  },
  {
   "cell_type": "markdown",
   "id": "4ed9e6db",
   "metadata": {},
   "source": [
    "## Replace current_status with integer values.\n",
    "0. Probable Case\n",
    "1. Laboratory-confirmed case"
   ]
  },
  {
   "cell_type": "code",
   "execution_count": 4,
   "id": "e3496c35",
   "metadata": {},
   "outputs": [
    {
     "data": {
      "text/html": [
       "<div>\n",
       "<style scoped>\n",
       "    .dataframe tbody tr th:only-of-type {\n",
       "        vertical-align: middle;\n",
       "    }\n",
       "\n",
       "    .dataframe tbody tr th {\n",
       "        vertical-align: top;\n",
       "    }\n",
       "\n",
       "    .dataframe thead th {\n",
       "        text-align: right;\n",
       "    }\n",
       "</style>\n",
       "<table border=\"1\" class=\"dataframe\">\n",
       "  <thead>\n",
       "    <tr style=\"text-align: right;\">\n",
       "      <th></th>\n",
       "      <th>Unnamed: 0</th>\n",
       "      <th>cdc_case_earliest_dt</th>\n",
       "      <th>cdc_report_dt</th>\n",
       "      <th>pos_spec_dt</th>\n",
       "      <th>onset_dt</th>\n",
       "      <th>current_status</th>\n",
       "      <th>sex</th>\n",
       "      <th>age_group</th>\n",
       "      <th>race_ethnicity_combined</th>\n",
       "      <th>hosp_yn</th>\n",
       "      <th>icu_yn</th>\n",
       "      <th>death_yn</th>\n",
       "      <th>medcond_yn</th>\n",
       "    </tr>\n",
       "  </thead>\n",
       "  <tbody>\n",
       "    <tr>\n",
       "      <th>0</th>\n",
       "      <td>45</td>\n",
       "      <td>2021/04/15</td>\n",
       "      <td>2021/08/31</td>\n",
       "      <td>2021/04/15</td>\n",
       "      <td>NaN</td>\n",
       "      <td>1</td>\n",
       "      <td>0</td>\n",
       "      <td>3</td>\n",
       "      <td>American Indian/Alaska Native, Non-Hispanic</td>\n",
       "      <td>0</td>\n",
       "      <td>0</td>\n",
       "      <td>0</td>\n",
       "      <td>0</td>\n",
       "    </tr>\n",
       "    <tr>\n",
       "      <th>1</th>\n",
       "      <td>750</td>\n",
       "      <td>2020/11/09</td>\n",
       "      <td>2020/11/23</td>\n",
       "      <td>2020/11/18</td>\n",
       "      <td>2020/11/09</td>\n",
       "      <td>1</td>\n",
       "      <td>0</td>\n",
       "      <td>3</td>\n",
       "      <td>American Indian/Alaska Native, Non-Hispanic</td>\n",
       "      <td>0</td>\n",
       "      <td>0</td>\n",
       "      <td>0</td>\n",
       "      <td>0</td>\n",
       "    </tr>\n",
       "    <tr>\n",
       "      <th>2</th>\n",
       "      <td>759</td>\n",
       "      <td>2020/11/01</td>\n",
       "      <td>2020/11/17</td>\n",
       "      <td>2020/11/12</td>\n",
       "      <td>2020/11/01</td>\n",
       "      <td>1</td>\n",
       "      <td>0</td>\n",
       "      <td>3</td>\n",
       "      <td>American Indian/Alaska Native, Non-Hispanic</td>\n",
       "      <td>0</td>\n",
       "      <td>0</td>\n",
       "      <td>0</td>\n",
       "      <td>0</td>\n",
       "    </tr>\n",
       "    <tr>\n",
       "      <th>3</th>\n",
       "      <td>1015</td>\n",
       "      <td>2020/08/19</td>\n",
       "      <td>2020/08/24</td>\n",
       "      <td>2020/08/19</td>\n",
       "      <td>2020/08/19</td>\n",
       "      <td>1</td>\n",
       "      <td>0</td>\n",
       "      <td>3</td>\n",
       "      <td>American Indian/Alaska Native, Non-Hispanic</td>\n",
       "      <td>0</td>\n",
       "      <td>0</td>\n",
       "      <td>0</td>\n",
       "      <td>0</td>\n",
       "    </tr>\n",
       "    <tr>\n",
       "      <th>4</th>\n",
       "      <td>1203</td>\n",
       "      <td>2021/12/19</td>\n",
       "      <td>2021/12/19</td>\n",
       "      <td>2021/12/19</td>\n",
       "      <td>2021/12/19</td>\n",
       "      <td>0</td>\n",
       "      <td>0</td>\n",
       "      <td>3</td>\n",
       "      <td>American Indian/Alaska Native, Non-Hispanic</td>\n",
       "      <td>1</td>\n",
       "      <td>0</td>\n",
       "      <td>0</td>\n",
       "      <td>1</td>\n",
       "    </tr>\n",
       "    <tr>\n",
       "      <th>...</th>\n",
       "      <td>...</td>\n",
       "      <td>...</td>\n",
       "      <td>...</td>\n",
       "      <td>...</td>\n",
       "      <td>...</td>\n",
       "      <td>...</td>\n",
       "      <td>...</td>\n",
       "      <td>...</td>\n",
       "      <td>...</td>\n",
       "      <td>...</td>\n",
       "      <td>...</td>\n",
       "      <td>...</td>\n",
       "      <td>...</td>\n",
       "    </tr>\n",
       "    <tr>\n",
       "      <th>1480740</th>\n",
       "      <td>103534708</td>\n",
       "      <td>2021/11/05</td>\n",
       "      <td>2021/11/16</td>\n",
       "      <td>2021/11/05</td>\n",
       "      <td>2021/11/05</td>\n",
       "      <td>1</td>\n",
       "      <td>0</td>\n",
       "      <td>3</td>\n",
       "      <td>American Indian/Alaska Native, Non-Hispanic</td>\n",
       "      <td>1</td>\n",
       "      <td>0</td>\n",
       "      <td>0</td>\n",
       "      <td>1</td>\n",
       "    </tr>\n",
       "    <tr>\n",
       "      <th>1480741</th>\n",
       "      <td>103534714</td>\n",
       "      <td>2020/11/07</td>\n",
       "      <td>2020/11/16</td>\n",
       "      <td>2020/11/13</td>\n",
       "      <td>2020/11/07</td>\n",
       "      <td>1</td>\n",
       "      <td>0</td>\n",
       "      <td>3</td>\n",
       "      <td>American Indian/Alaska Native, Non-Hispanic</td>\n",
       "      <td>0</td>\n",
       "      <td>0</td>\n",
       "      <td>0</td>\n",
       "      <td>0</td>\n",
       "    </tr>\n",
       "    <tr>\n",
       "      <th>1480742</th>\n",
       "      <td>103534737</td>\n",
       "      <td>2022/07/26</td>\n",
       "      <td>2022/07/30</td>\n",
       "      <td>2022/07/28</td>\n",
       "      <td>2022/07/26</td>\n",
       "      <td>1</td>\n",
       "      <td>0</td>\n",
       "      <td>3</td>\n",
       "      <td>American Indian/Alaska Native, Non-Hispanic</td>\n",
       "      <td>0</td>\n",
       "      <td>0</td>\n",
       "      <td>0</td>\n",
       "      <td>1</td>\n",
       "    </tr>\n",
       "    <tr>\n",
       "      <th>1480743</th>\n",
       "      <td>103534799</td>\n",
       "      <td>2020/03/26</td>\n",
       "      <td>2020/04/08</td>\n",
       "      <td>2020/03/30</td>\n",
       "      <td>2020/03/26</td>\n",
       "      <td>1</td>\n",
       "      <td>0</td>\n",
       "      <td>3</td>\n",
       "      <td>American Indian/Alaska Native, Non-Hispanic</td>\n",
       "      <td>0</td>\n",
       "      <td>0</td>\n",
       "      <td>0</td>\n",
       "      <td>0</td>\n",
       "    </tr>\n",
       "    <tr>\n",
       "      <th>1480744</th>\n",
       "      <td>103534896</td>\n",
       "      <td>2021/10/10</td>\n",
       "      <td>2021/10/18</td>\n",
       "      <td>2021/10/16</td>\n",
       "      <td>2021/10/10</td>\n",
       "      <td>1</td>\n",
       "      <td>0</td>\n",
       "      <td>3</td>\n",
       "      <td>American Indian/Alaska Native, Non-Hispanic</td>\n",
       "      <td>0</td>\n",
       "      <td>0</td>\n",
       "      <td>0</td>\n",
       "      <td>0</td>\n",
       "    </tr>\n",
       "  </tbody>\n",
       "</table>\n",
       "<p>1480745 rows × 13 columns</p>\n",
       "</div>"
      ],
      "text/plain": [
       "         Unnamed: 0 cdc_case_earliest_dt  cdc_report_dt pos_spec_dt  \\\n",
       "0                45            2021/04/15    2021/08/31  2021/04/15   \n",
       "1               750            2020/11/09    2020/11/23  2020/11/18   \n",
       "2               759            2020/11/01    2020/11/17  2020/11/12   \n",
       "3              1015            2020/08/19    2020/08/24  2020/08/19   \n",
       "4              1203            2021/12/19    2021/12/19  2021/12/19   \n",
       "...             ...                   ...           ...         ...   \n",
       "1480740   103534708            2021/11/05    2021/11/16  2021/11/05   \n",
       "1480741   103534714            2020/11/07    2020/11/16  2020/11/13   \n",
       "1480742   103534737            2022/07/26    2022/07/30  2022/07/28   \n",
       "1480743   103534799            2020/03/26    2020/04/08  2020/03/30   \n",
       "1480744   103534896            2021/10/10    2021/10/18  2021/10/16   \n",
       "\n",
       "           onset_dt  current_status  sex  age_group  \\\n",
       "0               NaN               1    0          3   \n",
       "1        2020/11/09               1    0          3   \n",
       "2        2020/11/01               1    0          3   \n",
       "3        2020/08/19               1    0          3   \n",
       "4        2021/12/19               0    0          3   \n",
       "...             ...             ...  ...        ...   \n",
       "1480740  2021/11/05               1    0          3   \n",
       "1480741  2020/11/07               1    0          3   \n",
       "1480742  2022/07/26               1    0          3   \n",
       "1480743  2020/03/26               1    0          3   \n",
       "1480744  2021/10/10               1    0          3   \n",
       "\n",
       "                             race_ethnicity_combined  hosp_yn  icu_yn  \\\n",
       "0        American Indian/Alaska Native, Non-Hispanic        0       0   \n",
       "1        American Indian/Alaska Native, Non-Hispanic        0       0   \n",
       "2        American Indian/Alaska Native, Non-Hispanic        0       0   \n",
       "3        American Indian/Alaska Native, Non-Hispanic        0       0   \n",
       "4        American Indian/Alaska Native, Non-Hispanic        1       0   \n",
       "...                                              ...      ...     ...   \n",
       "1480740  American Indian/Alaska Native, Non-Hispanic        1       0   \n",
       "1480741  American Indian/Alaska Native, Non-Hispanic        0       0   \n",
       "1480742  American Indian/Alaska Native, Non-Hispanic        0       0   \n",
       "1480743  American Indian/Alaska Native, Non-Hispanic        0       0   \n",
       "1480744  American Indian/Alaska Native, Non-Hispanic        0       0   \n",
       "\n",
       "         death_yn  medcond_yn  \n",
       "0               0           0  \n",
       "1               0           0  \n",
       "2               0           0  \n",
       "3               0           0  \n",
       "4               0           1  \n",
       "...           ...         ...  \n",
       "1480740         0           1  \n",
       "1480741         0           0  \n",
       "1480742         0           1  \n",
       "1480743         0           0  \n",
       "1480744         0           0  \n",
       "\n",
       "[1480745 rows x 13 columns]"
      ]
     },
     "execution_count": 4,
     "metadata": {},
     "output_type": "execute_result"
    }
   ],
   "source": [
    "df_death_med_all = pd.read_csv('COVID-19_Case_Surveillance_Public_Use_Data_death_med_all_ai.csv')\n",
    "df_death_med_all"
   ]
  },
  {
   "cell_type": "markdown",
   "id": "2d8bed70",
   "metadata": {},
   "source": [
    "## Import the AI libraries"
   ]
  },
  {
   "cell_type": "code",
   "execution_count": 5,
   "id": "d8cced86",
   "metadata": {},
   "outputs": [],
   "source": [
    "from sklearn.ensemble import GradientBoostingClassifier, RandomForestClassifier \n",
    "from sklearn.linear_model import LogisticRegression\n",
    "from sklearn.model_selection import train_test_split\n",
    "import pickle"
   ]
  },
  {
   "cell_type": "markdown",
   "id": "1cb96081",
   "metadata": {},
   "source": [
    "## Extract features and labels from the dataframe. Using age group and medical condition as features."
   ]
  },
  {
   "cell_type": "code",
   "execution_count": 6,
   "id": "ef7e1a4e",
   "metadata": {},
   "outputs": [],
   "source": [
    "X=df_death_med_all.loc[:,[\"age_group\",\"medcond_yn\",\"current_status\",\"hosp_yn\",\"sex\",\"icu_yn\"]]\n",
    "y=df_death_med_all[\"death_yn\"]"
   ]
  },
  {
   "cell_type": "markdown",
   "id": "adb7108f",
   "metadata": {},
   "source": [
    "## Split dataset into train and test data for hospitalization"
   ]
  },
  {
   "cell_type": "code",
   "execution_count": 7,
   "id": "85830daa",
   "metadata": {},
   "outputs": [],
   "source": [
    "X_hosp=df_death_med_all.loc[:,[\"age_group\",\"medcond_yn\",\"current_status\",\"sex\"]]\n",
    "y_hosp=df_death_med_all[\"hosp_yn\"]"
   ]
  },
  {
   "cell_type": "code",
   "execution_count": 8,
   "id": "c79fe0a1",
   "metadata": {},
   "outputs": [],
   "source": [
    "X_hosp_train, X_hosp_test, y_hosp_train, y_hosp_test = train_test_split(X_hosp, y_hosp, test_size=0.2)"
   ]
  },
  {
   "cell_type": "markdown",
   "id": "67e04f64",
   "metadata": {},
   "source": [
    "## Train the model for hospitalization"
   ]
  },
  {
   "cell_type": "code",
   "execution_count": 10,
   "id": "53ce6ce8",
   "metadata": {},
   "outputs": [],
   "source": [
    "model_hosp = RandomForestClassifier()#GradientBoostingClassifier()#LogisticRegression()#RandomForestClassifier()\n",
    "# model_hosp.fit(X_hosp_train, y_hosp_train)\n",
    "# pickle.dump(model_hosp, open(\"hosp_model.obj\",\"wb\"))\n",
    "model_hosp = pickle.load(open('hosp_model.obj','rb'))"
   ]
  },
  {
   "cell_type": "markdown",
   "id": "d6b67d8b",
   "metadata": {},
   "source": [
    "## Test the hospitalization model"
   ]
  },
  {
   "cell_type": "code",
   "execution_count": 11,
   "id": "0d4fa93b",
   "metadata": {},
   "outputs": [
    {
     "data": {
      "text/plain": [
       "0.8382874836653171"
      ]
     },
     "execution_count": 11,
     "metadata": {},
     "output_type": "execute_result"
    }
   ],
   "source": [
    "model_hosp.score(X_hosp_test,y_hosp_test)"
   ]
  },
  {
   "cell_type": "code",
   "execution_count": 12,
   "id": "195f7c33",
   "metadata": {},
   "outputs": [
    {
     "data": {
      "text/plain": [
       "69.16435134088039"
      ]
     },
     "execution_count": 12,
     "metadata": {},
     "output_type": "execute_result"
    }
   ],
   "source": [
    "probability = model_hosp.predict_proba(pd.DataFrame({\"age_group\":[9],\"medcond_yn\":[1],\"current_status\":[1],\"sex\":[1]}))\n",
    "hosp_probaility_percent = probability[0,1]/(probability[0,0]+probability[0,1])*100\n",
    "hosp_probaility_percent"
   ]
  },
  {
   "cell_type": "markdown",
   "id": "d858c4b3",
   "metadata": {},
   "source": [
    "## Split ICU dataset into train and test"
   ]
  },
  {
   "cell_type": "code",
   "execution_count": 13,
   "id": "4b46ce93",
   "metadata": {},
   "outputs": [],
   "source": [
    "X_icu=df_death_med_all.loc[:,[\"age_group\",\"medcond_yn\",\"current_status\",\"sex\",\"hosp_yn\"]]\n",
    "y_icu=df_death_med_all[\"icu_yn\"]"
   ]
  },
  {
   "cell_type": "code",
   "execution_count": 14,
   "id": "f5866a1e",
   "metadata": {},
   "outputs": [],
   "source": [
    "X_icu_train, X_icu_test, y_icu_train, y_icu_test = train_test_split(X_icu, y_icu, test_size=0.2)"
   ]
  },
  {
   "cell_type": "markdown",
   "id": "1ad0b427",
   "metadata": {},
   "source": [
    "## Train the model on ICU dataset"
   ]
  },
  {
   "cell_type": "code",
   "execution_count": 28,
   "id": "b1667e0b",
   "metadata": {},
   "outputs": [],
   "source": [
    "model_icu = LogisticRegression()#GradientBoostingClassifier()#LogisticRegression()#RandomForestClassifier()\n",
    "# model_icu.fit(X_icu_train, y_icu_train)\n",
    "# pickle.dump(model_icu, open(\"icu_model.obj\",\"wb\"))\n",
    "model_icu = pickle.load(open('icu_model.obj','rb'))"
   ]
  },
  {
   "cell_type": "markdown",
   "id": "00938162",
   "metadata": {},
   "source": [
    "## Test the ICU model"
   ]
  },
  {
   "cell_type": "code",
   "execution_count": 29,
   "id": "3b1c4ef3",
   "metadata": {},
   "outputs": [
    {
     "data": {
      "text/plain": [
       "0.9420764547575714"
      ]
     },
     "execution_count": 29,
     "metadata": {},
     "output_type": "execute_result"
    }
   ],
   "source": [
    "model_icu.score(X_icu_test,y_icu_test)"
   ]
  },
  {
   "cell_type": "code",
   "execution_count": 30,
   "id": "872565f4",
   "metadata": {},
   "outputs": [
    {
     "data": {
      "text/plain": [
       "38.69413695232536"
      ]
     },
     "execution_count": 30,
     "metadata": {},
     "output_type": "execute_result"
    }
   ],
   "source": [
    "probability = model_icu.predict_proba(pd.DataFrame({\"age_group\":[9],\"medcond_yn\":[1],\"current_status\":[1],\"sex\":[1],\"hosp_yn\":[1]}))\n",
    "hosp_icu_percent = probability[0,1]/(probability[0,0]+probability[0,1])*100\n",
    "hosp_icu_percent"
   ]
  },
  {
   "cell_type": "markdown",
   "id": "4a3c66ce",
   "metadata": {},
   "source": [
    "## Split the dataset into test and train for death"
   ]
  },
  {
   "cell_type": "code",
   "execution_count": 31,
   "id": "9e3f96e1",
   "metadata": {},
   "outputs": [],
   "source": [
    "X_death=df_death_med_all.loc[:,[\"age_group\",\"medcond_yn\",\"current_status\",\"sex\",\"hosp_yn\",\"icu_yn\"]]\n",
    "y_death=df_death_med_all[\"death_yn\"]"
   ]
  },
  {
   "cell_type": "code",
   "execution_count": 32,
   "id": "60371bd3",
   "metadata": {},
   "outputs": [],
   "source": [
    "X_death_train, X_death_test, y_death_train, y_death_test = train_test_split(X_death, y_death, test_size=0.2)"
   ]
  },
  {
   "cell_type": "code",
   "execution_count": 34,
   "id": "24086d30",
   "metadata": {},
   "outputs": [],
   "source": [
    "model_death = RandomForestClassifier()#GradientBoostingClassifier()#LogisticRegression()#RandomForestClassifier()\n",
    "# model_death.fit(X_death_train, y_death_train)\n",
    "# pickle.dump(model_death, open(\"death_model.obj\",\"wb\"))\n",
    "model_death = pickle.load(open(\"death_model.obj\",\"rb\"))"
   ]
  },
  {
   "cell_type": "code",
   "execution_count": 35,
   "id": "670d5f25",
   "metadata": {},
   "outputs": [
    {
     "data": {
      "text/plain": [
       "0.9567278633390625"
      ]
     },
     "execution_count": 35,
     "metadata": {},
     "output_type": "execute_result"
    }
   ],
   "source": [
    "model_death.score(X_death_test,y_death_test)"
   ]
  },
  {
   "cell_type": "markdown",
   "id": "f9afe9d6",
   "metadata": {},
   "source": [
    "## Get the probability for age 40-49 years with no pre-existing condition"
   ]
  },
  {
   "cell_type": "code",
   "execution_count": 36,
   "id": "3893a496",
   "metadata": {},
   "outputs": [
    {
     "data": {
      "text/plain": [
       "0.2723472274887319"
      ]
     },
     "execution_count": 36,
     "metadata": {},
     "output_type": "execute_result"
    }
   ],
   "source": [
    "model_death.predict_proba(pd.DataFrame({\"age_group\":[5],\"medcond_yn\":[0],\"current_status\":[1],\"sex\":[0],\"hosp_yn\":[1],\"icu_yn\":[1]}))[0,1]"
   ]
  },
  {
   "cell_type": "markdown",
   "id": "5c3599f3",
   "metadata": {},
   "source": [
    "## Get the probability for age 40-49 years with pre-existing condition"
   ]
  },
  {
   "cell_type": "code",
   "execution_count": 37,
   "id": "ced7c090",
   "metadata": {},
   "outputs": [
    {
     "data": {
      "text/plain": [
       "0.4075769985072046"
      ]
     },
     "execution_count": 37,
     "metadata": {},
     "output_type": "execute_result"
    }
   ],
   "source": [
    "model_death.predict_proba(pd.DataFrame({\"age_group\":[5],\"medcond_yn\":[1],\"current_status\":[1],\"sex\":[0],\"hosp_yn\":[1],\"icu_yn\":[1]}))[0,1]"
   ]
  },
  {
   "cell_type": "markdown",
   "id": "d27b8177",
   "metadata": {},
   "source": [
    "## Get the probability for age 70-79 years with no pre-existing condition"
   ]
  },
  {
   "cell_type": "code",
   "execution_count": 38,
   "id": "cb884c74",
   "metadata": {},
   "outputs": [
    {
     "data": {
      "text/plain": [
       "0.5918466945658848"
      ]
     },
     "execution_count": 38,
     "metadata": {},
     "output_type": "execute_result"
    }
   ],
   "source": [
    "model_death.predict_proba(pd.DataFrame({\"age_group\":[8],\"medcond_yn\":[0],\"current_status\":[1],\"sex\":[1],\"hosp_yn\":[1],\"icu_yn\":[1]}))[0,1]"
   ]
  },
  {
   "cell_type": "markdown",
   "id": "393ba096",
   "metadata": {},
   "source": [
    "## Get the probability for age 70-79 years with pre-existing condition"
   ]
  },
  {
   "cell_type": "code",
   "execution_count": 39,
   "id": "a669f13c",
   "metadata": {},
   "outputs": [
    {
     "data": {
      "text/plain": [
       "0.6780175157703868"
      ]
     },
     "execution_count": 39,
     "metadata": {},
     "output_type": "execute_result"
    }
   ],
   "source": [
    "model_death.predict_proba(pd.DataFrame({\"age_group\":[8],\"medcond_yn\":[1],\"current_status\":[1],\"sex\":[1],\"hosp_yn\":[1],\"icu_yn\":[1]}))[0,1]"
   ]
  },
  {
   "cell_type": "markdown",
   "id": "f842aeb6",
   "metadata": {},
   "source": [
    "## Get the probability for age 85+ with no pre-existing condition"
   ]
  },
  {
   "cell_type": "code",
   "execution_count": 40,
   "id": "1666bbc8",
   "metadata": {},
   "outputs": [
    {
     "data": {
      "text/plain": [
       "0.5850861231081558"
      ]
     },
     "execution_count": 40,
     "metadata": {},
     "output_type": "execute_result"
    }
   ],
   "source": [
    "model_death.predict_proba(pd.DataFrame({\"age_group\":[9],\"medcond_yn\":[0],\"current_status\":[1],\"sex\":[0],\"hosp_yn\":[1],\"icu_yn\":[1]}))[0,1]"
   ]
  },
  {
   "cell_type": "markdown",
   "id": "2351353f",
   "metadata": {},
   "source": [
    "## Get the probability for age 85+ with pre-existing condition"
   ]
  },
  {
   "cell_type": "code",
   "execution_count": 41,
   "id": "b7bad539",
   "metadata": {},
   "outputs": [
    {
     "data": {
      "text/plain": [
       "0.7582120996842775"
      ]
     },
     "execution_count": 41,
     "metadata": {},
     "output_type": "execute_result"
    }
   ],
   "source": [
    "model_death.predict_proba(pd.DataFrame({\"age_group\":[9],\"medcond_yn\":[1],\"current_status\":[1],\"sex\":[1],\"hosp_yn\":[1],\"icu_yn\":[1]}))[0,1]"
   ]
  },
  {
   "cell_type": "markdown",
   "id": "57c10e58",
   "metadata": {},
   "source": [
    "## Enter the values to test the model"
   ]
  },
  {
   "cell_type": "code",
   "execution_count": 56,
   "id": "6809ff50",
   "metadata": {},
   "outputs": [
    {
     "data": {
      "text/plain": [
       "(array([[0.41271842, 0.58728158]]),\n",
       " array([[0.69999928, 0.30000072]]),\n",
       " array([[0.63401599, 0.36598401]]),\n",
       " array([[0.2417879, 0.7582121]]))"
      ]
     },
     "execution_count": 56,
     "metadata": {},
     "output_type": "execute_result"
    }
   ],
   "source": [
    "hosp_probability = model_hosp.predict_proba(pd.DataFrame({\"age_group\":[9],\"medcond_yn\":[1],\"current_status\":[1],\"sex\":[0]}))\n",
    "icu_probability = model_icu.predict_proba(pd.DataFrame({\"age_group\":[9],\"medcond_yn\":[1],\"current_status\":[1],\"sex\":[0],\"hosp_yn\":[1]}))\n",
    "death_probability = model_death.predict_proba(pd.DataFrame({\"age_group\":[9],\"medcond_yn\":[1],\"current_status\":[1],\"sex\":[1],\"hosp_yn\":[1],\"icu_yn\":[0]}))\n",
    "death_icu_probability = model_death.predict_proba(pd.DataFrame({\"age_group\":[9],\"medcond_yn\":[1],\"current_status\":[1],\"sex\":[1],\"hosp_yn\":[1],\"icu_yn\":[1]}))\n",
    "hosp_probability, icu_probability, death_probability, death_icu_probability"
   ]
  },
  {
   "cell_type": "code",
   "execution_count": null,
   "id": "2a0a460d",
   "metadata": {},
   "outputs": [],
   "source": []
  }
 ],
 "metadata": {
  "kernelspec": {
   "display_name": "Python 3 (ipykernel)",
   "language": "python",
   "name": "python3"
  },
  "language_info": {
   "codemirror_mode": {
    "name": "ipython",
    "version": 3
   },
   "file_extension": ".py",
   "mimetype": "text/x-python",
   "name": "python",
   "nbconvert_exporter": "python",
   "pygments_lexer": "ipython3",
   "version": "3.7.3"
  }
 },
 "nbformat": 4,
 "nbformat_minor": 5
}
