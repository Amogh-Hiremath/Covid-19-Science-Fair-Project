{
 "cells": [
  {
   "cell_type": "markdown",
   "id": "aa923b75",
   "metadata": {},
   "source": [
    "# Train Random Forest Classifier on COVID-19 dataset from CDC"
   ]
  },
  {
   "cell_type": "code",
   "execution_count": 1,
   "id": "a3133286",
   "metadata": {},
   "outputs": [],
   "source": [
    "import pandas as pd\n",
    "import matplotlib.pyplot as plt"
   ]
  },
  {
   "cell_type": "code",
   "execution_count": 5,
   "id": "231065b9",
   "metadata": {},
   "outputs": [],
   "source": [
    "%matplotlib inline"
   ]
  },
  {
   "cell_type": "code",
   "execution_count": 9,
   "id": "dd08d00f",
   "metadata": {},
   "outputs": [],
   "source": [
    "pd.set_option('display.max_columns', None)"
   ]
  },
  {
   "cell_type": "markdown",
   "id": "a9cc45cf",
   "metadata": {},
   "source": [
    "## Download the [csv file](https://catalog.data.gov/dataset/covid-19-case-surveillance-public-use-data)."
   ]
  },
  {
   "cell_type": "markdown",
   "id": "1db875d7",
   "metadata": {},
   "source": [
    "## Prepare the dataset for AI. Replace Yes, No with 1 and 0 respectively. "
   ]
  },
  {
   "cell_type": "markdown",
   "id": "5815ea7f",
   "metadata": {},
   "source": [
    "## Replace age groups with integer values.\n",
    "1. 0-9 years\n",
    "2. 10-19 years\n",
    "3. 20-29 years\n",
    "4. 30-39 years\n",
    "5. 40-49 years\n",
    "6. 50-59 years\n",
    "7. 60-69 years\n",
    "8. 70-79 years\n",
    "9. 85+ years"
   ]
  },
  {
   "cell_type": "markdown",
   "id": "e01bfd86",
   "metadata": {},
   "source": [
    "## Replace current_status with integer values.\n",
    "0. Probable Case\n",
    "1. Laboratory-confirmed case"
   ]
  },
  {
   "cell_type": "code",
   "execution_count": 95,
   "id": "abf715ab",
   "metadata": {},
   "outputs": [
    {
     "data": {
      "text/html": [
       "<div>\n",
       "<style scoped>\n",
       "    .dataframe tbody tr th:only-of-type {\n",
       "        vertical-align: middle;\n",
       "    }\n",
       "\n",
       "    .dataframe tbody tr th {\n",
       "        vertical-align: top;\n",
       "    }\n",
       "\n",
       "    .dataframe thead th {\n",
       "        text-align: right;\n",
       "    }\n",
       "</style>\n",
       "<table border=\"1\" class=\"dataframe\">\n",
       "  <thead>\n",
       "    <tr style=\"text-align: right;\">\n",
       "      <th></th>\n",
       "      <th>Unnamed: 0</th>\n",
       "      <th>cdc_case_earliest_dt</th>\n",
       "      <th>cdc_report_dt</th>\n",
       "      <th>pos_spec_dt</th>\n",
       "      <th>onset_dt</th>\n",
       "      <th>current_status</th>\n",
       "      <th>sex</th>\n",
       "      <th>age_group</th>\n",
       "      <th>race_ethnicity_combined</th>\n",
       "      <th>hosp_yn</th>\n",
       "      <th>icu_yn</th>\n",
       "      <th>death_yn</th>\n",
       "      <th>medcond_yn</th>\n",
       "    </tr>\n",
       "  </thead>\n",
       "  <tbody>\n",
       "    <tr>\n",
       "      <th>0</th>\n",
       "      <td>45</td>\n",
       "      <td>2021/04/15</td>\n",
       "      <td>2021/08/31</td>\n",
       "      <td>2021/04/15</td>\n",
       "      <td>NaN</td>\n",
       "      <td>1</td>\n",
       "      <td>Female</td>\n",
       "      <td>3</td>\n",
       "      <td>American Indian/Alaska Native, Non-Hispanic</td>\n",
       "      <td>0</td>\n",
       "      <td>No</td>\n",
       "      <td>0</td>\n",
       "      <td>0</td>\n",
       "    </tr>\n",
       "    <tr>\n",
       "      <th>1</th>\n",
       "      <td>49</td>\n",
       "      <td>2020/12/17</td>\n",
       "      <td>2020/12/19</td>\n",
       "      <td>2020/12/18</td>\n",
       "      <td>2020/12/17</td>\n",
       "      <td>1</td>\n",
       "      <td>Female</td>\n",
       "      <td>3</td>\n",
       "      <td>American Indian/Alaska Native, Non-Hispanic</td>\n",
       "      <td>0</td>\n",
       "      <td>Missing</td>\n",
       "      <td>0</td>\n",
       "      <td>0</td>\n",
       "    </tr>\n",
       "    <tr>\n",
       "      <th>2</th>\n",
       "      <td>71</td>\n",
       "      <td>2021/03/03</td>\n",
       "      <td>2021/03/05</td>\n",
       "      <td>2021/03/05</td>\n",
       "      <td>2021/03/03</td>\n",
       "      <td>0</td>\n",
       "      <td>Female</td>\n",
       "      <td>3</td>\n",
       "      <td>American Indian/Alaska Native, Non-Hispanic</td>\n",
       "      <td>0</td>\n",
       "      <td>Missing</td>\n",
       "      <td>0</td>\n",
       "      <td>0</td>\n",
       "    </tr>\n",
       "    <tr>\n",
       "      <th>3</th>\n",
       "      <td>79</td>\n",
       "      <td>2021/12/20</td>\n",
       "      <td>2021/12/27</td>\n",
       "      <td>2021/12/20</td>\n",
       "      <td>2021/12/20</td>\n",
       "      <td>1</td>\n",
       "      <td>Female</td>\n",
       "      <td>3</td>\n",
       "      <td>American Indian/Alaska Native, Non-Hispanic</td>\n",
       "      <td>0</td>\n",
       "      <td>Missing</td>\n",
       "      <td>0</td>\n",
       "      <td>0</td>\n",
       "    </tr>\n",
       "    <tr>\n",
       "      <th>4</th>\n",
       "      <td>80</td>\n",
       "      <td>2021/04/13</td>\n",
       "      <td>2021/04/28</td>\n",
       "      <td>NaN</td>\n",
       "      <td>2021/04/13</td>\n",
       "      <td>1</td>\n",
       "      <td>Female</td>\n",
       "      <td>3</td>\n",
       "      <td>American Indian/Alaska Native, Non-Hispanic</td>\n",
       "      <td>0</td>\n",
       "      <td>Missing</td>\n",
       "      <td>0</td>\n",
       "      <td>1</td>\n",
       "    </tr>\n",
       "    <tr>\n",
       "      <th>...</th>\n",
       "      <td>...</td>\n",
       "      <td>...</td>\n",
       "      <td>...</td>\n",
       "      <td>...</td>\n",
       "      <td>...</td>\n",
       "      <td>...</td>\n",
       "      <td>...</td>\n",
       "      <td>...</td>\n",
       "      <td>...</td>\n",
       "      <td>...</td>\n",
       "      <td>...</td>\n",
       "      <td>...</td>\n",
       "      <td>...</td>\n",
       "    </tr>\n",
       "    <tr>\n",
       "      <th>4131725</th>\n",
       "      <td>103535053</td>\n",
       "      <td>2020/09/10</td>\n",
       "      <td>2020/09/15</td>\n",
       "      <td>2020/09/13</td>\n",
       "      <td>2020/09/10</td>\n",
       "      <td>1</td>\n",
       "      <td>Female</td>\n",
       "      <td>3</td>\n",
       "      <td>American Indian/Alaska Native, Non-Hispanic</td>\n",
       "      <td>0</td>\n",
       "      <td>Missing</td>\n",
       "      <td>0</td>\n",
       "      <td>1</td>\n",
       "    </tr>\n",
       "    <tr>\n",
       "      <th>4131726</th>\n",
       "      <td>103535074</td>\n",
       "      <td>2020/06/28</td>\n",
       "      <td>2020/07/01</td>\n",
       "      <td>2020/06/29</td>\n",
       "      <td>2020/06/28</td>\n",
       "      <td>1</td>\n",
       "      <td>Female</td>\n",
       "      <td>3</td>\n",
       "      <td>American Indian/Alaska Native, Non-Hispanic</td>\n",
       "      <td>0</td>\n",
       "      <td>Missing</td>\n",
       "      <td>0</td>\n",
       "      <td>1</td>\n",
       "    </tr>\n",
       "    <tr>\n",
       "      <th>4131727</th>\n",
       "      <td>103535123</td>\n",
       "      <td>2020/07/12</td>\n",
       "      <td>2020/07/18</td>\n",
       "      <td>2020/07/17</td>\n",
       "      <td>2020/07/12</td>\n",
       "      <td>1</td>\n",
       "      <td>Female</td>\n",
       "      <td>3</td>\n",
       "      <td>American Indian/Alaska Native, Non-Hispanic</td>\n",
       "      <td>0</td>\n",
       "      <td>Missing</td>\n",
       "      <td>0</td>\n",
       "      <td>0</td>\n",
       "    </tr>\n",
       "    <tr>\n",
       "      <th>4131728</th>\n",
       "      <td>103535128</td>\n",
       "      <td>2020/07/02</td>\n",
       "      <td>2020/07/10</td>\n",
       "      <td>2020/07/04</td>\n",
       "      <td>2020/07/02</td>\n",
       "      <td>1</td>\n",
       "      <td>Female</td>\n",
       "      <td>3</td>\n",
       "      <td>American Indian/Alaska Native, Non-Hispanic</td>\n",
       "      <td>0</td>\n",
       "      <td>Missing</td>\n",
       "      <td>0</td>\n",
       "      <td>1</td>\n",
       "    </tr>\n",
       "    <tr>\n",
       "      <th>4131729</th>\n",
       "      <td>103535145</td>\n",
       "      <td>2021/06/19</td>\n",
       "      <td>2021/06/20</td>\n",
       "      <td>2021/06/19</td>\n",
       "      <td>NaN</td>\n",
       "      <td>1</td>\n",
       "      <td>Female</td>\n",
       "      <td>3</td>\n",
       "      <td>American Indian/Alaska Native, Non-Hispanic</td>\n",
       "      <td>0</td>\n",
       "      <td>Missing</td>\n",
       "      <td>0</td>\n",
       "      <td>1</td>\n",
       "    </tr>\n",
       "  </tbody>\n",
       "</table>\n",
       "<p>4131730 rows × 13 columns</p>\n",
       "</div>"
      ],
      "text/plain": [
       "         Unnamed: 0 cdc_case_earliest_dt  cdc_report_dt pos_spec_dt  \\\n",
       "0                45            2021/04/15    2021/08/31  2021/04/15   \n",
       "1                49            2020/12/17    2020/12/19  2020/12/18   \n",
       "2                71            2021/03/03    2021/03/05  2021/03/05   \n",
       "3                79            2021/12/20    2021/12/27  2021/12/20   \n",
       "4                80            2021/04/13    2021/04/28         NaN   \n",
       "...             ...                   ...           ...         ...   \n",
       "4131725   103535053            2020/09/10    2020/09/15  2020/09/13   \n",
       "4131726   103535074            2020/06/28    2020/07/01  2020/06/29   \n",
       "4131727   103535123            2020/07/12    2020/07/18  2020/07/17   \n",
       "4131728   103535128            2020/07/02    2020/07/10  2020/07/04   \n",
       "4131729   103535145            2021/06/19    2021/06/20  2021/06/19   \n",
       "\n",
       "           onset_dt  current_status     sex  age_group  \\\n",
       "0               NaN               1  Female          3   \n",
       "1        2020/12/17               1  Female          3   \n",
       "2        2021/03/03               0  Female          3   \n",
       "3        2021/12/20               1  Female          3   \n",
       "4        2021/04/13               1  Female          3   \n",
       "...             ...             ...     ...        ...   \n",
       "4131725  2020/09/10               1  Female          3   \n",
       "4131726  2020/06/28               1  Female          3   \n",
       "4131727  2020/07/12               1  Female          3   \n",
       "4131728  2020/07/02               1  Female          3   \n",
       "4131729         NaN               1  Female          3   \n",
       "\n",
       "                             race_ethnicity_combined  hosp_yn   icu_yn  \\\n",
       "0        American Indian/Alaska Native, Non-Hispanic        0       No   \n",
       "1        American Indian/Alaska Native, Non-Hispanic        0  Missing   \n",
       "2        American Indian/Alaska Native, Non-Hispanic        0  Missing   \n",
       "3        American Indian/Alaska Native, Non-Hispanic        0  Missing   \n",
       "4        American Indian/Alaska Native, Non-Hispanic        0  Missing   \n",
       "...                                              ...      ...      ...   \n",
       "4131725  American Indian/Alaska Native, Non-Hispanic        0  Missing   \n",
       "4131726  American Indian/Alaska Native, Non-Hispanic        0  Missing   \n",
       "4131727  American Indian/Alaska Native, Non-Hispanic        0  Missing   \n",
       "4131728  American Indian/Alaska Native, Non-Hispanic        0  Missing   \n",
       "4131729  American Indian/Alaska Native, Non-Hispanic        0  Missing   \n",
       "\n",
       "         death_yn  medcond_yn  \n",
       "0               0           0  \n",
       "1               0           0  \n",
       "2               0           0  \n",
       "3               0           0  \n",
       "4               0           1  \n",
       "...           ...         ...  \n",
       "4131725         0           1  \n",
       "4131726         0           1  \n",
       "4131727         0           0  \n",
       "4131728         0           1  \n",
       "4131729         0           1  \n",
       "\n",
       "[4131730 rows x 13 columns]"
      ]
     },
     "execution_count": 95,
     "metadata": {},
     "output_type": "execute_result"
    }
   ],
   "source": [
    "df_death_med_all = pd.read_csv('COVID-19_Case_Surveillance_Public_Use_Data_death_med_all_ai1.csv')\n",
    "df_death_med_all"
   ]
  },
  {
   "cell_type": "markdown",
   "id": "7e0d5afe",
   "metadata": {},
   "source": [
    "## Import the AI libraries"
   ]
  },
  {
   "cell_type": "code",
   "execution_count": 17,
   "id": "7b189b54",
   "metadata": {},
   "outputs": [],
   "source": [
    "from sklearn.ensemble import RandomForestClassifier\n",
    "from sklearn.model_selection import train_test_split\n",
    "import pickle"
   ]
  },
  {
   "cell_type": "markdown",
   "id": "eca73987",
   "metadata": {},
   "source": [
    "## Extract features and labels from the dataframe. Using age group and medical condition as features."
   ]
  },
  {
   "cell_type": "code",
   "execution_count": 54,
   "id": "4c366b25",
   "metadata": {},
   "outputs": [],
   "source": [
    "X=df_death_med_all.loc[:,[\"age_group\",\"medcond_yn\",\"current_status\",\"hosp_yn\"]]\n",
    "y=df_death_med_all[\"death_yn\"]"
   ]
  },
  {
   "cell_type": "markdown",
   "id": "6999670d",
   "metadata": {},
   "source": [
    "## Split dataset into train and test data"
   ]
  },
  {
   "cell_type": "code",
   "execution_count": 55,
   "id": "fa989862",
   "metadata": {},
   "outputs": [],
   "source": [
    "X_train, X_test, y_train, y_test = train_test_split(X, y, test_size=0.2)"
   ]
  },
  {
   "cell_type": "markdown",
   "id": "5dbd0149",
   "metadata": {},
   "source": [
    "## Train the model or load the pre-trained model."
   ]
  },
  {
   "cell_type": "code",
   "execution_count": 75,
   "id": "1a17e4c7",
   "metadata": {},
   "outputs": [],
   "source": [
    "# rf_model = RandomForestClassifier()\n",
    "# rf_model.fit(X_train, y_train)"
   ]
  },
  {
   "cell_type": "code",
   "execution_count": null,
   "id": "668b4602",
   "metadata": {},
   "outputs": [],
   "source": [
    "rf_model = pickle.load(open(\"rf_model1.obj\",\"rb\"))"
   ]
  },
  {
   "cell_type": "code",
   "execution_count": 133,
   "id": "0d6ce37f",
   "metadata": {},
   "outputs": [
    {
     "data": {
      "text/plain": [
       "0.962138135841403"
      ]
     },
     "execution_count": 133,
     "metadata": {},
     "output_type": "execute_result"
    }
   ],
   "source": [
    "rf_model.score(X_test,y_test)"
   ]
  },
  {
   "cell_type": "markdown",
   "id": "0cbd23ca",
   "metadata": {},
   "source": [
    "## Get the probability for age 40-49 years with no pre-existing condition"
   ]
  },
  {
   "cell_type": "code",
   "execution_count": 99,
   "id": "34a35670",
   "metadata": {},
   "outputs": [
    {
     "data": {
      "text/plain": [
       "0.0732518175383056"
      ]
     },
     "execution_count": 99,
     "metadata": {},
     "output_type": "execute_result"
    }
   ],
   "source": [
    "rf_model.predict_proba(pd.DataFrame({\"age_group\":[5],\"medcond_yn\":[0],\"current_status\":[1],\"hosp_yn\":[1]}))[0,1]"
   ]
  },
  {
   "cell_type": "markdown",
   "id": "11c75ab8",
   "metadata": {},
   "source": [
    "## Get the probability for age 40-49 years with pre-existing condition"
   ]
  },
  {
   "cell_type": "code",
   "execution_count": 100,
   "id": "ca3c034f",
   "metadata": {},
   "outputs": [
    {
     "data": {
      "text/plain": [
       "0.16718780903456762"
      ]
     },
     "execution_count": 100,
     "metadata": {},
     "output_type": "execute_result"
    }
   ],
   "source": [
    "rf_model.predict_proba(pd.DataFrame({\"age_group\":[5],\"medcond_yn\":[1],\"current_status\":[1],\"hosp_yn\":[1]}))[0,1]"
   ]
  },
  {
   "cell_type": "markdown",
   "id": "7485776d",
   "metadata": {},
   "source": [
    "## Get the probability for age 70-79 years with no pre-existing condition"
   ]
  },
  {
   "cell_type": "code",
   "execution_count": 105,
   "id": "35cd3b76",
   "metadata": {},
   "outputs": [
    {
     "data": {
      "text/plain": [
       "0.26649298149239703"
      ]
     },
     "execution_count": 105,
     "metadata": {},
     "output_type": "execute_result"
    }
   ],
   "source": [
    "rf_model.predict_proba(pd.DataFrame({\"age_group\":[8],\"medcond_yn\":[0],\"current_status\":[1],\"hosp_yn\":[1]}))[0,1]"
   ]
  },
  {
   "cell_type": "markdown",
   "id": "4da0518b",
   "metadata": {},
   "source": [
    "## Get the probability for age 70-79 years with pre-existing condition"
   ]
  },
  {
   "cell_type": "code",
   "execution_count": 112,
   "id": "74be5553",
   "metadata": {},
   "outputs": [
    {
     "data": {
      "text/plain": [
       "0.3889287455955175"
      ]
     },
     "execution_count": 112,
     "metadata": {},
     "output_type": "execute_result"
    }
   ],
   "source": [
    "rf_model.predict_proba(pd.DataFrame({\"age_group\":[8],\"medcond_yn\":[1],\"current_status\":[1],\"hosp_yn\":[1]}))[0,1]"
   ]
  },
  {
   "cell_type": "markdown",
   "id": "9b5d5622",
   "metadata": {},
   "source": [
    "## Get the probability for age 85+ with no pre-existing condition"
   ]
  },
  {
   "cell_type": "code",
   "execution_count": 111,
   "id": "00a544a4",
   "metadata": {},
   "outputs": [
    {
     "data": {
      "text/plain": [
       "0.3329467969037689"
      ]
     },
     "execution_count": 111,
     "metadata": {},
     "output_type": "execute_result"
    }
   ],
   "source": [
    "rf_model.predict_proba(pd.DataFrame({\"age_group\":[9],\"medcond_yn\":[0],\"current_status\":[1],\"hosp_yn\":[1]}))[0,1]"
   ]
  },
  {
   "cell_type": "markdown",
   "id": "2f8cb415",
   "metadata": {},
   "source": [
    "## Get the probability for age 85+ with pre-existing condition"
   ]
  },
  {
   "cell_type": "code",
   "execution_count": 110,
   "id": "2c580016",
   "metadata": {},
   "outputs": [
    {
     "data": {
      "text/plain": [
       "0.5036927931709284"
      ]
     },
     "execution_count": 110,
     "metadata": {},
     "output_type": "execute_result"
    }
   ],
   "source": [
    "rf_model.predict_proba(pd.DataFrame({\"age_group\":[9],\"medcond_yn\":[1],\"current_status\":[1],\"hosp_yn\":[1]}))[0,1]"
   ]
  },
  {
   "cell_type": "markdown",
   "id": "9095b60b",
   "metadata": {},
   "source": [
    "## Enter the values to test the model"
   ]
  },
  {
   "cell_type": "code",
   "execution_count": 132,
   "id": "6a85bad3",
   "metadata": {},
   "outputs": [
    {
     "data": {
      "text/plain": [
       "52.79551790704811"
      ]
     },
     "execution_count": 132,
     "metadata": {},
     "output_type": "execute_result"
    }
   ],
   "source": [
    "probability = rf_model.predict_proba(pd.DataFrame({\"age_group\":[9],\"medcond_yn\":[1],\"current_status\":[0],\"hosp_yn\":[1]}))\n",
    "death_probaility_percent = probability[0,1]/(probability[0,0]+probability[0,1])*100\n",
    "death_probaility_percent"
   ]
  }
 ],
 "metadata": {
  "kernelspec": {
   "display_name": "Python 3 (ipykernel)",
   "language": "python",
   "name": "python3"
  },
  "language_info": {
   "codemirror_mode": {
    "name": "ipython",
    "version": 3
   },
   "file_extension": ".py",
   "mimetype": "text/x-python",
   "name": "python",
   "nbconvert_exporter": "python",
   "pygments_lexer": "ipython3",
   "version": "3.7.3"
  }
 },
 "nbformat": 4,
 "nbformat_minor": 5
}
