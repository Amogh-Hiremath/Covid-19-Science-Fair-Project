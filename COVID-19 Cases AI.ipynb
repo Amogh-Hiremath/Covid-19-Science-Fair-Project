{
 "cells": [
  {
   "cell_type": "markdown",
   "id": "5f2dac69",
   "metadata": {},
   "source": [
    "# Train Random Forest Classifier on COVID-19 dataset from CDC"
   ]
  },
  {
   "cell_type": "code",
   "execution_count": 1,
   "id": "542302ba",
   "metadata": {},
   "outputs": [],
   "source": [
    "import pandas as pd\n",
    "import matplotlib.pyplot as plt"
   ]
  },
  {
   "cell_type": "code",
   "execution_count": 5,
   "id": "43c8fa75",
   "metadata": {},
   "outputs": [],
   "source": [
    "%matplotlib inline"
   ]
  },
  {
   "cell_type": "code",
   "execution_count": 9,
   "id": "236a45eb",
   "metadata": {},
   "outputs": [],
   "source": [
    "pd.set_option('display.max_columns', None)"
   ]
  },
  {
   "cell_type": "markdown",
   "id": "158af432",
   "metadata": {},
   "source": [
    "## Load the pre-processed dataset for AI. Replaced Yes, No with 1 and 0. Replaced age groups with integer values."
   ]
  },
  {
   "cell_type": "code",
   "execution_count": 47,
   "id": "cae13936",
   "metadata": {},
   "outputs": [
    {
     "data": {
      "text/html": [
       "<div>\n",
       "<style scoped>\n",
       "    .dataframe tbody tr th:only-of-type {\n",
       "        vertical-align: middle;\n",
       "    }\n",
       "\n",
       "    .dataframe tbody tr th {\n",
       "        vertical-align: top;\n",
       "    }\n",
       "\n",
       "    .dataframe thead th {\n",
       "        text-align: right;\n",
       "    }\n",
       "</style>\n",
       "<table border=\"1\" class=\"dataframe\">\n",
       "  <thead>\n",
       "    <tr style=\"text-align: right;\">\n",
       "      <th></th>\n",
       "      <th>Unnamed: 0</th>\n",
       "      <th>cdc_case_earliest_dt</th>\n",
       "      <th>cdc_report_dt</th>\n",
       "      <th>pos_spec_dt</th>\n",
       "      <th>onset_dt</th>\n",
       "      <th>current_status</th>\n",
       "      <th>sex</th>\n",
       "      <th>age_group</th>\n",
       "      <th>race_ethnicity_combined</th>\n",
       "      <th>hosp_yn</th>\n",
       "      <th>icu_yn</th>\n",
       "      <th>death_yn</th>\n",
       "      <th>medcond_yn</th>\n",
       "    </tr>\n",
       "  </thead>\n",
       "  <tbody>\n",
       "    <tr>\n",
       "      <th>0</th>\n",
       "      <td>45</td>\n",
       "      <td>2021/04/15</td>\n",
       "      <td>2021/08/31</td>\n",
       "      <td>2021/04/15</td>\n",
       "      <td>NaN</td>\n",
       "      <td>Laboratory-confirmed case</td>\n",
       "      <td>Female</td>\n",
       "      <td>3</td>\n",
       "      <td>American Indian/Alaska Native, Non-Hispanic</td>\n",
       "      <td>No</td>\n",
       "      <td>No</td>\n",
       "      <td>0</td>\n",
       "      <td>0</td>\n",
       "    </tr>\n",
       "    <tr>\n",
       "      <th>1</th>\n",
       "      <td>49</td>\n",
       "      <td>2020/12/17</td>\n",
       "      <td>2020/12/19</td>\n",
       "      <td>2020/12/18</td>\n",
       "      <td>2020/12/17</td>\n",
       "      <td>Laboratory-confirmed case</td>\n",
       "      <td>Female</td>\n",
       "      <td>3</td>\n",
       "      <td>American Indian/Alaska Native, Non-Hispanic</td>\n",
       "      <td>No</td>\n",
       "      <td>Missing</td>\n",
       "      <td>0</td>\n",
       "      <td>0</td>\n",
       "    </tr>\n",
       "    <tr>\n",
       "      <th>2</th>\n",
       "      <td>71</td>\n",
       "      <td>2021/03/03</td>\n",
       "      <td>2021/03/05</td>\n",
       "      <td>2021/03/05</td>\n",
       "      <td>2021/03/03</td>\n",
       "      <td>Probable Case</td>\n",
       "      <td>Female</td>\n",
       "      <td>3</td>\n",
       "      <td>American Indian/Alaska Native, Non-Hispanic</td>\n",
       "      <td>No</td>\n",
       "      <td>Missing</td>\n",
       "      <td>0</td>\n",
       "      <td>0</td>\n",
       "    </tr>\n",
       "    <tr>\n",
       "      <th>3</th>\n",
       "      <td>79</td>\n",
       "      <td>2021/12/20</td>\n",
       "      <td>2021/12/27</td>\n",
       "      <td>2021/12/20</td>\n",
       "      <td>2021/12/20</td>\n",
       "      <td>Laboratory-confirmed case</td>\n",
       "      <td>Female</td>\n",
       "      <td>3</td>\n",
       "      <td>American Indian/Alaska Native, Non-Hispanic</td>\n",
       "      <td>No</td>\n",
       "      <td>Missing</td>\n",
       "      <td>0</td>\n",
       "      <td>0</td>\n",
       "    </tr>\n",
       "    <tr>\n",
       "      <th>4</th>\n",
       "      <td>80</td>\n",
       "      <td>2021/04/13</td>\n",
       "      <td>2021/04/28</td>\n",
       "      <td>NaN</td>\n",
       "      <td>2021/04/13</td>\n",
       "      <td>Laboratory-confirmed case</td>\n",
       "      <td>Female</td>\n",
       "      <td>3</td>\n",
       "      <td>American Indian/Alaska Native, Non-Hispanic</td>\n",
       "      <td>No</td>\n",
       "      <td>Missing</td>\n",
       "      <td>0</td>\n",
       "      <td>1</td>\n",
       "    </tr>\n",
       "    <tr>\n",
       "      <th>...</th>\n",
       "      <td>...</td>\n",
       "      <td>...</td>\n",
       "      <td>...</td>\n",
       "      <td>...</td>\n",
       "      <td>...</td>\n",
       "      <td>...</td>\n",
       "      <td>...</td>\n",
       "      <td>...</td>\n",
       "      <td>...</td>\n",
       "      <td>...</td>\n",
       "      <td>...</td>\n",
       "      <td>...</td>\n",
       "      <td>...</td>\n",
       "    </tr>\n",
       "    <tr>\n",
       "      <th>4976169</th>\n",
       "      <td>103535071</td>\n",
       "      <td>2020/07/18</td>\n",
       "      <td>2020/07/26</td>\n",
       "      <td>2020/07/23</td>\n",
       "      <td>2020/07/18</td>\n",
       "      <td>Laboratory-confirmed case</td>\n",
       "      <td>Female</td>\n",
       "      <td>3</td>\n",
       "      <td>American Indian/Alaska Native, Non-Hispanic</td>\n",
       "      <td>Missing</td>\n",
       "      <td>Missing</td>\n",
       "      <td>0</td>\n",
       "      <td>0</td>\n",
       "    </tr>\n",
       "    <tr>\n",
       "      <th>4976170</th>\n",
       "      <td>103535074</td>\n",
       "      <td>2020/06/28</td>\n",
       "      <td>2020/07/01</td>\n",
       "      <td>2020/06/29</td>\n",
       "      <td>2020/06/28</td>\n",
       "      <td>Laboratory-confirmed case</td>\n",
       "      <td>Female</td>\n",
       "      <td>3</td>\n",
       "      <td>American Indian/Alaska Native, Non-Hispanic</td>\n",
       "      <td>No</td>\n",
       "      <td>Missing</td>\n",
       "      <td>0</td>\n",
       "      <td>1</td>\n",
       "    </tr>\n",
       "    <tr>\n",
       "      <th>4976171</th>\n",
       "      <td>103535123</td>\n",
       "      <td>2020/07/12</td>\n",
       "      <td>2020/07/18</td>\n",
       "      <td>2020/07/17</td>\n",
       "      <td>2020/07/12</td>\n",
       "      <td>Laboratory-confirmed case</td>\n",
       "      <td>Female</td>\n",
       "      <td>3</td>\n",
       "      <td>American Indian/Alaska Native, Non-Hispanic</td>\n",
       "      <td>No</td>\n",
       "      <td>Missing</td>\n",
       "      <td>0</td>\n",
       "      <td>0</td>\n",
       "    </tr>\n",
       "    <tr>\n",
       "      <th>4976172</th>\n",
       "      <td>103535128</td>\n",
       "      <td>2020/07/02</td>\n",
       "      <td>2020/07/10</td>\n",
       "      <td>2020/07/04</td>\n",
       "      <td>2020/07/02</td>\n",
       "      <td>Laboratory-confirmed case</td>\n",
       "      <td>Female</td>\n",
       "      <td>3</td>\n",
       "      <td>American Indian/Alaska Native, Non-Hispanic</td>\n",
       "      <td>No</td>\n",
       "      <td>Missing</td>\n",
       "      <td>0</td>\n",
       "      <td>1</td>\n",
       "    </tr>\n",
       "    <tr>\n",
       "      <th>4976173</th>\n",
       "      <td>103535145</td>\n",
       "      <td>2021/06/19</td>\n",
       "      <td>2021/06/20</td>\n",
       "      <td>2021/06/19</td>\n",
       "      <td>NaN</td>\n",
       "      <td>Laboratory-confirmed case</td>\n",
       "      <td>Female</td>\n",
       "      <td>3</td>\n",
       "      <td>American Indian/Alaska Native, Non-Hispanic</td>\n",
       "      <td>No</td>\n",
       "      <td>Missing</td>\n",
       "      <td>0</td>\n",
       "      <td>1</td>\n",
       "    </tr>\n",
       "  </tbody>\n",
       "</table>\n",
       "<p>4976174 rows × 13 columns</p>\n",
       "</div>"
      ],
      "text/plain": [
       "         Unnamed: 0 cdc_case_earliest_dt  cdc_report_dt pos_spec_dt  \\\n",
       "0                45            2021/04/15    2021/08/31  2021/04/15   \n",
       "1                49            2020/12/17    2020/12/19  2020/12/18   \n",
       "2                71            2021/03/03    2021/03/05  2021/03/05   \n",
       "3                79            2021/12/20    2021/12/27  2021/12/20   \n",
       "4                80            2021/04/13    2021/04/28         NaN   \n",
       "...             ...                   ...           ...         ...   \n",
       "4976169   103535071            2020/07/18    2020/07/26  2020/07/23   \n",
       "4976170   103535074            2020/06/28    2020/07/01  2020/06/29   \n",
       "4976171   103535123            2020/07/12    2020/07/18  2020/07/17   \n",
       "4976172   103535128            2020/07/02    2020/07/10  2020/07/04   \n",
       "4976173   103535145            2021/06/19    2021/06/20  2021/06/19   \n",
       "\n",
       "           onset_dt             current_status     sex  age_group  \\\n",
       "0               NaN  Laboratory-confirmed case  Female          3   \n",
       "1        2020/12/17  Laboratory-confirmed case  Female          3   \n",
       "2        2021/03/03              Probable Case  Female          3   \n",
       "3        2021/12/20  Laboratory-confirmed case  Female          3   \n",
       "4        2021/04/13  Laboratory-confirmed case  Female          3   \n",
       "...             ...                        ...     ...        ...   \n",
       "4976169  2020/07/18  Laboratory-confirmed case  Female          3   \n",
       "4976170  2020/06/28  Laboratory-confirmed case  Female          3   \n",
       "4976171  2020/07/12  Laboratory-confirmed case  Female          3   \n",
       "4976172  2020/07/02  Laboratory-confirmed case  Female          3   \n",
       "4976173         NaN  Laboratory-confirmed case  Female          3   \n",
       "\n",
       "                             race_ethnicity_combined  hosp_yn   icu_yn  \\\n",
       "0        American Indian/Alaska Native, Non-Hispanic       No       No   \n",
       "1        American Indian/Alaska Native, Non-Hispanic       No  Missing   \n",
       "2        American Indian/Alaska Native, Non-Hispanic       No  Missing   \n",
       "3        American Indian/Alaska Native, Non-Hispanic       No  Missing   \n",
       "4        American Indian/Alaska Native, Non-Hispanic       No  Missing   \n",
       "...                                              ...      ...      ...   \n",
       "4976169  American Indian/Alaska Native, Non-Hispanic  Missing  Missing   \n",
       "4976170  American Indian/Alaska Native, Non-Hispanic       No  Missing   \n",
       "4976171  American Indian/Alaska Native, Non-Hispanic       No  Missing   \n",
       "4976172  American Indian/Alaska Native, Non-Hispanic       No  Missing   \n",
       "4976173  American Indian/Alaska Native, Non-Hispanic       No  Missing   \n",
       "\n",
       "         death_yn  medcond_yn  \n",
       "0               0           0  \n",
       "1               0           0  \n",
       "2               0           0  \n",
       "3               0           0  \n",
       "4               0           1  \n",
       "...           ...         ...  \n",
       "4976169         0           0  \n",
       "4976170         0           1  \n",
       "4976171         0           0  \n",
       "4976172         0           1  \n",
       "4976173         0           1  \n",
       "\n",
       "[4976174 rows x 13 columns]"
      ]
     },
     "execution_count": 47,
     "metadata": {},
     "output_type": "execute_result"
    }
   ],
   "source": [
    "df_death_med_all = pd.read_csv('datasets/COVID-19_Case_Surveillance_Public_Use_Data_death_med_all_ai.csv')\n",
    "df_death_med_all"
   ]
  },
  {
   "cell_type": "code",
   "execution_count": 17,
   "id": "acb4beeb",
   "metadata": {},
   "outputs": [],
   "source": [
    "from sklearn.ensemble import RandomForestClassifier\n",
    "from sklearn.model_selection import train_test_split\n",
    "import pickle"
   ]
  },
  {
   "cell_type": "markdown",
   "id": "5be59250",
   "metadata": {},
   "source": [
    "## Extract features and labels from the data frame. Using age group and medical condition as features."
   ]
  },
  {
   "cell_type": "code",
   "execution_count": 13,
   "id": "ec8aaed5",
   "metadata": {},
   "outputs": [],
   "source": [
    "X=df_death_med_all.loc[:,[\"age_group\",\"medcond_yn\"]]\n",
    "y=df_death_med_all[\"death_yn\"]"
   ]
  },
  {
   "cell_type": "markdown",
   "id": "4728502d",
   "metadata": {},
   "source": [
    "## Split dataset into train and test data"
   ]
  },
  {
   "cell_type": "code",
   "execution_count": 14,
   "id": "cb12552c",
   "metadata": {},
   "outputs": [],
   "source": [
    "X_train, X_test, y_train, y_test = train_test_split(X, y, test_size=0.2, random_state=101)"
   ]
  },
  {
   "cell_type": "markdown",
   "id": "dd8a0cee",
   "metadata": {},
   "source": [
    "## Train the model or load the pre-trained model."
   ]
  },
  {
   "cell_type": "code",
   "execution_count": 18,
   "id": "f8f90bbe",
   "metadata": {},
   "outputs": [],
   "source": [
    "#rf_model = RandomForestClassifier()\n",
    "#rf_model.fit(X_train, y_train)\n",
    "rf_model = pickle.load(open(\"rf_model.obj\",\"rb\"))"
   ]
  },
  {
   "cell_type": "markdown",
   "id": "2128a177",
   "metadata": {},
   "source": [
    "## Get the probability for age 40-49 years with no pre-existing condition"
   ]
  },
  {
   "cell_type": "code",
   "execution_count": 43,
   "id": "48f75407",
   "metadata": {},
   "outputs": [
    {
     "data": {
      "text/plain": [
       "0.004232142143454183"
      ]
     },
     "execution_count": 43,
     "metadata": {},
     "output_type": "execute_result"
    }
   ],
   "source": [
    "rf_model.predict_proba(pd.DataFrame({\"age_group\":[5],\"medcond_yn\":[0]}))[0][1]"
   ]
  },
  {
   "cell_type": "markdown",
   "id": "9dacbceb",
   "metadata": {},
   "source": [
    "## Get the probability for age 40-49 years with pre-existing condition"
   ]
  },
  {
   "cell_type": "code",
   "execution_count": 44,
   "id": "9ae3d3cc",
   "metadata": {},
   "outputs": [
    {
     "data": {
      "text/plain": [
       "0.018238575053557405"
      ]
     },
     "execution_count": 44,
     "metadata": {},
     "output_type": "execute_result"
    }
   ],
   "source": [
    "rf_model.predict_proba(pd.DataFrame({\"age_group\":[5],\"medcond_yn\":[1]}))[0][1]"
   ]
  },
  {
   "cell_type": "markdown",
   "id": "2ac9e92b",
   "metadata": {},
   "source": [
    "## Get the probability for age 85+ with no pre-existing condition"
   ]
  },
  {
   "cell_type": "code",
   "execution_count": 39,
   "id": "a208aca4",
   "metadata": {},
   "outputs": [
    {
     "data": {
      "text/plain": [
       "0.17750733450516853"
      ]
     },
     "execution_count": 39,
     "metadata": {},
     "output_type": "execute_result"
    }
   ],
   "source": [
    "rf_model.predict_proba(pd.DataFrame({\"age_group\":[9],\"medcond_yn\":[0]}))[0][1]"
   ]
  },
  {
   "cell_type": "markdown",
   "id": "49765b2a",
   "metadata": {},
   "source": [
    "## Get the probability for age 85+ with pre-existing condition"
   ]
  },
  {
   "cell_type": "code",
   "execution_count": 46,
   "id": "94d6b59d",
   "metadata": {},
   "outputs": [
    {
     "data": {
      "text/plain": [
       "0.30052461748944115"
      ]
     },
     "execution_count": 46,
     "metadata": {},
     "output_type": "execute_result"
    }
   ],
   "source": [
    "rf_model.predict_proba(pd.DataFrame({\"age_group\":[9],\"medcond_yn\":[1]}))[0][1]"
   ]
  },
  {
   "cell_type": "code",
   "execution_count": null,
   "id": "5a47851b",
   "metadata": {},
   "outputs": [],
   "source": []
  }
 ],
 "metadata": {
  "kernelspec": {
   "display_name": "Python 3 (ipykernel)",
   "language": "python",
   "name": "python3"
  },
  "language_info": {
   "codemirror_mode": {
    "name": "ipython",
    "version": 3
   },
   "file_extension": ".py",
   "mimetype": "text/x-python",
   "name": "python",
   "nbconvert_exporter": "python",
   "pygments_lexer": "ipython3",
   "version": "3.7.3"
  }
 },
 "nbformat": 4,
 "nbformat_minor": 5
}
